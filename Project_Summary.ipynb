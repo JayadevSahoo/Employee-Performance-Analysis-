{
  "nbformat": 4,
  "nbformat_minor": 0,
  "metadata": {
    "colab": {
      "provenance": []
    },
    "kernelspec": {
      "name": "python3",
      "display_name": "Python 3"
    },
    "language_info": {
      "name": "python"
    }
  },
  "cells": [
    {
      "cell_type": "markdown",
      "source": [
        "**Employee Performance Analysis**"
      ],
      "metadata": {
        "id": "TFHTYlAvY_Iu"
      }
    },
    {
      "cell_type": "markdown",
      "source": [
        "**Project Summary**\n",
        "\n",
        "**INX Future Inc Employee Performance - Project**\n",
        "The given project focuses on analyzing employee performance data from INX Future Inc. The objective is to determine performance ratings based on various features such as work experience, gender, department, and current role. The project's goals and insights include:\n",
        "\n",
        "**Department Wise Performances:** The project aims to understand how different departments within the organization contribute to employee performance.\n",
        "\n",
        "**Top 3 Important Factors Affecting Employee Performance:** Identifying and analyzing the three most significant factors that influence employee performance. These factors are crucial for understanding what drives performance within the company.\n",
        "\n",
        "**Trained Model for Predicting Employee Performance:** Developing a machine learning model (using random forest classifier and gradient boosted classifier) capable of predicting employee performance based on input factors. This model has achieved an accuracy of 92%. The intention is to utilize this model for future hiring processes.\n",
        "\n",
        "**Recommendations for Improving Employee Performance:** Providing actionable recommendations derived from the analysis to enhance employee performance. These recommendations are based on insights gained from the project's findings.\n",
        "\n",
        "**Data Overview:**\n",
        "\n",
        "*   The dataset comprises 1200 rows and 28 columns.\n",
        "*   Features are categorized into 16 qualitative and 11 quantitative attributes.\n",
        "*   Employee ID, an alphanumeric data, is not considered a relevant feature for performance rating.\n",
        "\n",
        "\n",
        "**Data Analysis Process:**\n",
        "\n",
        "\n",
        "\n",
        "*   **Data Preprocessing:** Employed one hot encoding to convert string-categorical data into numerical form, ensuring compatibility with machine learning algorithms.\n",
        "\n",
        "*   **Exploratory Data Analysis:** Conducted distribution analysis and correlation analysis to gain insights into the data's characteristics and relationships between features and performance ratings.\n",
        "\n",
        "*   **Department-specific Analysis:** Analyzed data for each department individually, understanding performance variations across different departments.\n",
        "\n",
        "*   **Machine Learning Models:** Utilized random forest classifier and gradient boosted classifier due to the categorical nature of the labeled data. Achieved a high accuracy rate of 92% in predicting employee performance.\n",
        "\n",
        "*   Feature Importance: Used machine learning model feature importance techniques to identify key factors influencing performance ratings.\n",
        "\n",
        "**Key Findings:**\n",
        "\n",
        "*   Identified department-wise performance disparities.\n",
        "\n",
        "*   Determined the top three factors significantly impacting employee performance.\n",
        "\n",
        "*   Established a predictive model with a 92% accuracy rate, aiding in future hiring decisions.\n",
        "\n",
        "*   Recommendations derived from the analysis can be implemented to enhance overall employee performance within the organization.\n"
      ],
      "metadata": {
        "id": "l7rWjwyZ-m7-"
      }
    },
    {
      "cell_type": "markdown",
      "source": [
        "**1. Requirement**\n",
        "\n",
        " The data for this project was provided by IABAC™ and is based on a fictional organization, INX Future Inc. The project was conducted in a Jupyter Notebook using the Python programming platform. INX Future Inc is one of the leading data analytics and automation solutions provider with over 15 years of global business presence. INX is consistently rated as top 20 best employers past 5 years."
      ],
      "metadata": {
        "id": "lPjTq03QG-JJ"
      }
    },
    {
      "cell_type": "markdown",
      "source": [
        "**2. Analysis**\n",
        "\n",
        "It's essential to start the analysis by understanding the features within the dataset. Describing the features is a fundamental step in data analysis. It helps in grasping the nature of the data and the relationships between different variables. By categorizing the features into numerical and categorical data, it becomes easier to choose appropriate analytical methods and techniques for further exploration and modeling.\n",
        "\n",
        "**Categorical Features:**\n",
        "Categorical features include EmpNumber, Gender, EducationBackground, MaritalStatus, EmpDepartment, EmpJobRole, BusinessTravelFrequency, OverTime, Attrition.\n",
        "\n",
        "**Numerical Features:**\n",
        "Numerical features include Age, DistanceFromHome, EmpHourlyRate, NumCompaniesWorked, EmpLastSalaryHikePercent, TotalWorkExperienceInYears, TrainingTimesLastYear, ExperienceYearsAtThisCompany, ExperienceYearsInCurrentRole, YearsSinceLastPromotion, YearsWithCurrManager.\n",
        "\n",
        "**Ordinal Features:**\n",
        "EmpEducationLevel, EmpEnvironmentSatisfaction, EmpJobInvolvement, EmpJobLevel, EmpJobSatisfaction, EmpRelationshipSatisfaction, EmpWorkLifeBalance, PerformanceRating.\n",
        "\n",
        "**Alphanumeric Features:**\n",
        "EmpNumber is an alphanumeric feature consisting of both numeric and distinct (unique) alphanumeric values.\n",
        "\n",
        "**Data Distribution Insights:**\n",
        "\n",
        "*   Age distribution: Majority of employees are between 30 to 40 years old.\n",
        "*   Most employees worked in up to 2 companies before joining this one.\n",
        "*   Hourly rate ranges from 65 to 95 for most employees.\n",
        "*   Most employees work up to 5 years in the company\n",
        "*   Salary hike percentages are mainly between 11% to 15%.\n",
        "\n",
        "**Data Cleaning and Preprocessing:**\n",
        "\n",
        "*   No missing data was found in the given dataset.\n",
        "*   Identified outliers in certain numerical features and performed data preprocessing techniques like square root transformation to handle skewed data.\n",
        "\n",
        "**Analysis by Visualization:**\n",
        "Created a correlation heatmap to identify relationships between numerical features. Identified significant correlations between experience years, job levels, and promotions.\n",
        "\n",
        "**Machine Learning Models:**\n",
        "\n",
        "*   Implemented different type of Machine learning model for prediction.\n",
        "*   Addressed class imbalance using the SMOTE method.\n",
        "*   Achieved high accuracy rates: 97% with XGBoost and 98% with Random Forest Classifier.\n"
      ],
      "metadata": {
        "id": "BgZhhuEaKa2R"
      }
    },
    {
      "cell_type": "markdown",
      "source": [
        "**3. Summary**\n",
        "\n",
        "The data analysis project focused on understanding and predicting employee performance at INX Future Inc. The goals were achieved through a comprehensive analysis of the dataset and the implementation of machine learning models.\n",
        "\n",
        "**I: Department-wise Performances**\n",
        "\n",
        "\n",
        "*   **Sales:** Excellent performance was predominant, with slightly higher ratings for males. Total work experience did not significantly influence performance.\n",
        "\n",
        "*   **Human Resources:** Majority excelled, especially female employees. Older individuals had lower performance. Experience played a role in performance here.\n",
        "\n",
        "*   **Development:** Largest number of excellent performers. Age and gender had minimal impact.\n",
        "\n",
        "*   **Data Science:** Highest excellence performance average. Experience mattered, but not age. Males performed well here.\n",
        "\n",
        "*   **Research & Development:** Performance varied across ages, with good female performers.\n",
        "\n",
        "*   **Finance:** Performance declined with age. Males performed better, and experience inversely impacted performance.\n",
        "\n",
        "**II: Top 3 Important Factors Affecting Employee Performance**\n",
        "\n",
        "*   Employment Environment Satisfaction\n",
        "\n",
        "*   Employee Salary Hike Percentage\n",
        "\n",
        "*   Experience Years in Current Role\n",
        "*   These factors were identified through feature selection techniques and correlation analysis.\n",
        "\n",
        "**III: Trained Models and Predictions**\n",
        "\n",
        "*   Logistic Regression Accuracy: 78%\n",
        "\n",
        "*   Support Vector Machine (SVM) Accuracy: 92%.\n",
        "\n",
        "*   Decision Tree Accuracy: 91%.\n",
        "\n",
        "*   Random Forest Accuracy: 98%.\n",
        "*   XGBoost Accuracy: 97%.\n",
        "\n",
        "*   K-Nearest Neighbor (KNN) Accuracy: 81%..\n",
        "\n",
        "*   Naive Bayes (Bernoulli) Accuracy: 67%.\n",
        "\n",
        "**IV: Recommendations to Improve Employee Performance**\n",
        "\n",
        "*   Focus on Employee Environment Satisfaction: Enhance the work environment to boost overall performance.\n",
        "*   Salary Hike: Providing regular and fair salary hikes can motivate employees.\n",
        "*   Promotions: Encourage promotions to nurture leadership qualities and responsibility.\n",
        "*   Experience Years in Current Role: Review and optimize the years required for promotions.\n",
        "*   Work-Life Balance: Balance work demands for better performance and employee well-being.\n",
        "*   Recruitment Strategies: Consider female candidates for HR positions due to their strong performance.\n",
        "*   Special Attention to Low & Medium Job/Relationship Satisfaction Employees: Understand their needs and motivations to improve their performance."
      ],
      "metadata": {
        "id": "nimvIo3iUxuJ"
      }
    },
    {
      "cell_type": "markdown",
      "source": [
        "**In conclusion, the analysis highlighted department-specific performance trends and crucial factors affecting employee performance. The provided machine learning models exhibited high accuracy, providing a foundation for making informed decisions and implementing strategic improvements within INX Future Inc.**"
      ],
      "metadata": {
        "id": "SSMSgng6YI05"
      }
    }
  ]
}